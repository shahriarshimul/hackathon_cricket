{
  "nbformat": 4,
  "nbformat_minor": 0,
  "metadata": {
    "colab": {
      "provenance": [],
      "authorship_tag": "ABX9TyPQ3JHekjihNtPb+yJLVFDK",
      "include_colab_link": true
    },
    "kernelspec": {
      "name": "python3",
      "display_name": "Python 3"
    },
    "language_info": {
      "name": "python"
    }
  },
  "cells": [
    {
      "cell_type": "markdown",
      "metadata": {
        "id": "view-in-github",
        "colab_type": "text"
      },
      "source": [
        "<a href=\"https://colab.research.google.com/github/shahriarshimul/hackathon_cricket/blob/main/hackathon_cricket.ipynb\" target=\"_parent\"><img src=\"https://colab.research.google.com/assets/colab-badge.svg\" alt=\"Open In Colab\"/></a>"
      ]
    },
    {
      "cell_type": "code",
      "execution_count": null,
      "metadata": {
        "colab": {
          "base_uri": "https://localhost:8080/"
        },
        "id": "TuzadSutea1H",
        "outputId": "7d8a5b00-c219-4794-a806-becbfee64143"
      },
      "outputs": [
        {
          "output_type": "stream",
          "name": "stdout",
          "text": [
            "  BowlerStyle PitchConditions  HistoricalPerformance RecommendedShot  \\\n",
            "0        Pace           Dusty              24.434989        PullShot   \n",
            "1        Pace        GreenTop              38.858303       Defensive   \n",
            "2        Spin           Dusty              44.832617      CoverDrive   \n",
            "3        Spin           Dusty              21.744973      CoverDrive   \n",
            "4        Pace             Dry              32.000870        PullShot   \n",
            "\n",
            "  FieldPlacements  \n",
            "0   Inside circle  \n",
            "1       Midground  \n",
            "2       Midground  \n",
            "3   Inside circle  \n",
            "4       Midground  \n"
          ]
        }
      ],
      "source": [
        "import pandas as pd\n",
        "import random\n",
        "\n",
        "# Generate random data for the dataset\n",
        "data = {\n",
        "    'BowlerStyle': [random.choice(['Pace', 'Spin', 'Swing']) for _ in range(100)],\n",
        "    'PitchConditions': [random.choice(['GreenTop', 'Dry', 'Dusty']) for _ in range(100)],\n",
        "    'HistoricalPerformance': [random.uniform(20, 50) for _ in range(100)],  # Batting average\n",
        "    'RecommendedShot': [random.choice(['Defensive', 'CoverDrive', 'PullShot']) for _ in range(100)]\n",
        "}\n",
        "# Create a DataFrame\n",
        "df = pd.DataFrame(data)\n",
        "\n",
        "# Display the first few rows of the dataset\n",
        "print(df.head())\n"
      ]
    },
    {
      "cell_type": "code",
      "source": [
        "pip install scikit-learn"
      ],
      "metadata": {
        "colab": {
          "base_uri": "https://localhost:8080/"
        },
        "id": "_JyAUPrIgEYN",
        "outputId": "3a01e552-2010-4fb8-cf23-cd2e66425861"
      },
      "execution_count": null,
      "outputs": [
        {
          "output_type": "stream",
          "name": "stdout",
          "text": [
            "Requirement already satisfied: scikit-learn in /usr/local/lib/python3.10/dist-packages (1.2.2)\n",
            "Requirement already satisfied: numpy>=1.17.3 in /usr/local/lib/python3.10/dist-packages (from scikit-learn) (1.23.5)\n",
            "Requirement already satisfied: scipy>=1.3.2 in /usr/local/lib/python3.10/dist-packages (from scikit-learn) (1.11.3)\n",
            "Requirement already satisfied: joblib>=1.1.1 in /usr/local/lib/python3.10/dist-packages (from scikit-learn) (1.3.2)\n",
            "Requirement already satisfied: threadpoolctl>=2.0.0 in /usr/local/lib/python3.10/dist-packages (from scikit-learn) (3.2.0)\n"
          ]
        }
      ]
    },
    {
      "cell_type": "code",
      "source": [
        "import pandas as pd\n",
        "from sklearn import svm\n",
        "from sklearn.model_selection import train_test_split\n",
        "from sklearn.metrics import accuracy_score\n",
        "\n",
        "# Assuming you have a dataframe 'df' with features and labels\n",
        "X = pd.get_dummies(df[['BowlerStyle', 'PitchConditions', 'HistoricalPerformance']])\n",
        "y = df['RecommendedShot']\n",
        "\n",
        "# Split the data into training and testing sets\n",
        "X_train, X_test, y_train, y_test = train_test_split(X, y, test_size=0.2, random_state=42)\n",
        "\n",
        "# Initialize the SVM classifier\n",
        "clf = svm.SVC(kernel='linear')\n",
        "\n",
        "# Train the model\n",
        "clf.fit(X_train, y_train)\n",
        "\n",
        "# Make predictions on the test set\n",
        "y_pred = clf.predict(X_test)\n",
        "\n",
        "# Evaluate the accuracy of the model\n",
        "accuracy = accuracy_score(y_test, y_pred)\n",
        "print(f\"Model Accuracy for the following scenario: {accuracy}\")\n"
      ],
      "metadata": {
        "colab": {
          "base_uri": "https://localhost:8080/"
        },
        "id": "Z67p6GlRgxXO",
        "outputId": "909cad38-0fbf-498a-f6ec-073d1084f566"
      },
      "execution_count": null,
      "outputs": [
        {
          "output_type": "stream",
          "name": "stdout",
          "text": [
            "Model Accuracy: 0.4\n"
          ]
        }
      ]
    }
  ]
}